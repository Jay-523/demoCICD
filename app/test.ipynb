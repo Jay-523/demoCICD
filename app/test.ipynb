{
 "cells": [
  {
   "cell_type": "code",
   "execution_count": 2,
   "metadata": {},
   "outputs": [
    {
     "data": {
      "text/plain": [
       "5050.971645184999"
      ]
     },
     "execution_count": 2,
     "metadata": {},
     "output_type": "execute_result"
    }
   ],
   "source": [
    "to_add = \"\"\"107.95\n",
    "55.45\n",
    "34.45\n",
    "47.25\n",
    "23.95\n",
    "23.95\n",
    "21\n",
    "131.25\n",
    "18.7\n",
    "55.45\n",
    "26.25\n",
    "52.5\n",
    "21\n",
    "21\n",
    "15.75\n",
    "150\n",
    "155.94\n",
    "15\n",
    "17.9655\n",
    "9\n",
    "105\n",
    "162\n",
    "13.45\n",
    "49.4655\n",
    "29.2\n",
    "26.25\n",
    "26.25\n",
    "26.25\n",
    "36.75\n",
    "9.591397849\n",
    "9\n",
    "178.5\n",
    "200\n",
    "205.24\n",
    "21\n",
    "21\n",
    "26.05\n",
    "10.5\n",
    "9.591397849\n",
    "250\n",
    "14\n",
    "26.04\n",
    "9.591397849\n",
    "107.95\n",
    "71.2\n",
    "105\n",
    "37.19354839\n",
    "26.05\n",
    "105\n",
    "24.17\n",
    "9.591397849\n",
    "161.2903226\n",
    "107.95\n",
    "9.591397849\n",
    "37.74193548\n",
    "26.40860215\n",
    "19.13\n",
    "161.2903226\n",
    "136.5\n",
    "105\n",
    "19.61\n",
    "105\n",
    "200\n",
    "8\n",
    "37.64516129\n",
    "105\n",
    "49.18\n",
    "21\n",
    "105\n",
    "15.75\n",
    "47.33333333\n",
    "44.76344086\n",
    "25.50537634\n",
    "63\n",
    "20.7\n",
    "200\n",
    "100\n",
    "106.4516129\n",
    "57.45\"\"\".split('\\n')\n",
    "sum([float(i) for i in to_add])"
   ]
  }
 ],
 "metadata": {
  "kernelspec": {
   "display_name": "Python 3",
   "language": "python",
   "name": "python3"
  },
  "language_info": {
   "codemirror_mode": {
    "name": "ipython",
    "version": 3
   },
   "file_extension": ".py",
   "mimetype": "text/x-python",
   "name": "python",
   "nbconvert_exporter": "python",
   "pygments_lexer": "ipython3",
   "version": "3.11.4"
  }
 },
 "nbformat": 4,
 "nbformat_minor": 2
}
